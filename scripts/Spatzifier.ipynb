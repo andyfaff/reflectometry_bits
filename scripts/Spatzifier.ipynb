{
 "cells": [
  {
   "cell_type": "code",
   "execution_count": 4,
   "id": "752f0704-2279-4aa2-b86b-2eecdf7f9c53",
   "metadata": {},
   "outputs": [],
   "source": [
    "import numpy as np\n",
    "from refnx._lib import flatten\n",
    "from refnx.util import general\n",
    "\n",
    "# Spatz distances\n",
    "LS4 = 368.5\n",
    "sample_distance = 6237\n",
    "slit2_distance = 2327"
   ]
  },
  {
   "cell_type": "code",
   "execution_count": 13,
   "id": "690a820e-4d6f-4b04-9414-0e750ea51518",
   "metadata": {},
   "outputs": [],
   "source": [
    "def angler(angle, angles, slits=None):\n",
    "    ss2hg = ss3hg = ss4hg = 0\n",
    "    if slits is not None:\n",
    "        ss2hg = slits[angle].get(\"ss2hg\", 0)\n",
    "        ss3hg = slits[angle].get(\"ss3hg\", 0)\n",
    "        ss4hg = slits[angle].get(\"ss4hg\", 0)\n",
    "    \n",
    "    return f\"omega_2theta {angles[angle]} {2 * angles[angle]} {ss2hg:.3f} {ss3hg:.3f} {ss4hg:.3f}\"\n",
    "\n",
    "def slit_optimiser(angles, footprint, resolution):\n",
    "    slits = []\n",
    "    for angle in angles:\n",
    "        d1, d2 = general.slit_optimiser(\n",
    "            footprint,\n",
    "            resolution,\n",
    "            angle,\n",
    "            L12=L23,\n",
    "            L2S=L3S,\n",
    "            LS3=LS4,\n",
    "            verbose=False,\n",
    "        )\n",
    "        d4 = general.height_of_beam_after_dx(d1, d2, L23, L3S + LS4)\n",
    "        slits.append({\"ss2hg\": d1, \"ss3hg\": d2, \"ss4hg\": 1.2 * d4[1] + 2})\n",
    "    return slits\n",
    "        \n",
    "def hslits(ss2hg, ss3hg, ss4hg):\n",
    "    return f\"hslits {ss2hg} {ss3hg} {ss4hg}\"\n",
    "\n",
    "def positioner(position, positions):\n",
    "    offset_dct = positions[position]\n",
    "    som_offset = offset_dct.get(\"som\", 0)\n",
    "    sxtop_offset = offset_dct.get(\"sxtop\", 0)\n",
    "    sx_offset = offset_dct.get(\"sx\", 0)\n",
    "    return [\n",
    "        f\"drive sxtop {sxtop_offset} sx {sx_offset}\",\n",
    "        f\"rel som {som_offset}\"\n",
    "    ]\n",
    "\n",
    "def acquire(time):\n",
    "    return [\"autosave 30\", f\"runscan dummy motor 0 0 1 time {time} force true\"]\n",
    "\n",
    "def syringe(pump0_rate, pump0_vol, pump1_rate, pump1_vol):\n",
    "    cmds = [\n",
    "        f\"hset /sample/syr1/pump0/rat {pump0_rate}\",\n",
    "        f\"hset /sample/syr1/pump0/vol {pump0_vol}\",\n",
    "        f\"hset /sample/syr1/pump0/rat {pump1_rate}\",\n",
    "        f\"hset /sample/syr1/pump0/vol {pump1_vol}\",\n",
    "        \"hset /sample/syr1/pump0/run run\",\n",
    "    ]\n",
    "    return cmds\n",
    "\n",
    "def wait(time):\n",
    "    return f\"wait {time}\"\n",
    "\n",
    "def mvp(pos):\n",
    "    if pos < 1 or pos > 6:\n",
    "        raise ValueError(\"pos has to be an integer 1 <= pos <=6\")\n",
    "    return f\"drive mvp_driveable {int(pos)}\""
   ]
  },
  {
   "cell_type": "code",
   "execution_count": 19,
   "id": "88374a89-9d0b-4685-976e-152376e50d2d",
   "metadata": {},
   "outputs": [],
   "source": [
    "# alter ss3y\n",
    "ss3y = 186.75\n",
    "footprint = 50               # mm\n",
    "resolution = 0.033           # mm\n",
    "\n",
    "\n",
    "################################################\n",
    "# don't alter\n",
    "slit3_distance = sample_distance - (250 - ss3y)\n",
    "L3S = sample_distance - slit3_distance\n",
    "L23 = slit3_distance - slit2_distance\n",
    "################################################\n",
    "\n",
    "angles = [0.6, 3.2]\n",
    "slits = slit_optimiser(angles, footprint, resolution)\n",
    "positions = [\n",
    "    {\"sx\": 0, \"sc\": 0, \"som\": 0.1, \"sxtop\": 0},  # 0\n",
    "    {\"sx\": 0, \"sc\": 0, \"som\": 0, \"sxtop\": 0},    # 1\n",
    "]"
   ]
  },
  {
   "cell_type": "code",
   "execution_count": 20,
   "id": "0652b6d2-c8e0-4ea2-b840-85db1aef17e5",
   "metadata": {},
   "outputs": [],
   "source": [
    "cmds = [\n",
    "    mvp(1),\n",
    "    syringe(2, 2, 0, 0),\n",
    "    wait(120),\n",
    "    angler(0, angles, slits),\n",
    "    positioner(0, positions),\n",
    "    acquire(3600),\n",
    "    hslits(0, 0, 0)\n",
    "]"
   ]
  },
  {
   "cell_type": "code",
   "execution_count": 21,
   "id": "2a0e886f-f448-4a26-a9c5-9a1674681096",
   "metadata": {},
   "outputs": [
    {
     "name": "stdout",
     "output_type": "stream",
     "text": [
      "drive mvp_driveable 1\n",
      "hset /sample/syr1/pump0/rat 2\n",
      "hset /sample/syr1/pump0/vol 2\n",
      "hset /sample/syr1/pump0/rat 0\n",
      "hset /sample/syr1/pump0/vol 0\n",
      "hset /sample/syr1/pump0/run run\n",
      "wait 120\n",
      "omega_2theta 0.6 1.2 1.894 0.484 2.902\n",
      "drive sxtop 0 sx 0\n",
      "rel som 0.1\n",
      "autosave 30\n",
      "runscan dummy motor 0 0 1 time 3600 force true\n",
      "hslits 0 0 0\n"
     ]
    }
   ],
   "source": [
    "print(\"\\n\".join(flatten(cmds)))"
   ]
  }
 ],
 "metadata": {
  "kernelspec": {
   "display_name": "Python 3 (ipykernel)",
   "language": "python",
   "name": "python3"
  },
  "language_info": {
   "codemirror_mode": {
    "name": "ipython",
    "version": 3
   },
   "file_extension": ".py",
   "mimetype": "text/x-python",
   "name": "python",
   "nbconvert_exporter": "python",
   "pygments_lexer": "ipython3",
   "version": "3.12.6"
  }
 },
 "nbformat": 4,
 "nbformat_minor": 5
}
