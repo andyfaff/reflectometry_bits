{
 "cells": [
  {
   "cell_type": "code",
   "execution_count": 280,
   "metadata": {
    "collapsed": true
   },
   "outputs": [],
   "source": [
    "import numpy as np\n",
    "import h5py"
   ]
  },
  {
   "cell_type": "code",
   "execution_count": 281,
   "metadata": {},
   "outputs": [],
   "source": [
    "a = np.random.randint(0, 100, (5, 11))"
   ]
  },
  {
   "cell_type": "code",
   "execution_count": 282,
   "metadata": {},
   "outputs": [],
   "source": [
    "d = a[np.newaxis, np.newaxis, :, :]\n",
    "c = np.linspace(5.5, -5.5, 12)"
   ]
  },
  {
   "cell_type": "code",
   "execution_count": 283,
   "metadata": {},
   "outputs": [],
   "source": [
    "f = h5py.File('flood.h5','w')\n",
    "f.create_dataset('entry1/data/hmm', data=d)\n",
    "f.create_dataset('entry1/data/x_bin', data=c)\n",
    "f.close()"
   ]
  },
  {
   "cell_type": "code",
   "execution_count": 284,
   "metadata": {
    "collapsed": true
   },
   "outputs": [],
   "source": [
    "def create_detector_norm(h5norm, x_min, x_max):\n",
    "    \"\"\"\n",
    "    Produces a detector normalisation array for Platypus.\n",
    "    Here we average over N, T and X to provide  a relative efficiency for each\n",
    "    y wire.\n",
    "\n",
    "    Parameters\n",
    "    ----------\n",
    "    h5norm : hdf5 file\n",
    "        Containing a flood field run (water)\n",
    "    x_min : float, int\n",
    "        Minimum x location to use\n",
    "    x_max : float, int\n",
    "        Maximum x location to use\n",
    "\n",
    "    Returns\n",
    "    -------\n",
    "    norm, norm_sd : array_like\n",
    "        1D array containing the normalisation data for each y pixel\n",
    "    \"\"\"\n",
    "    # sum over N and T\n",
    "    detector = h5norm['entry1/data/hmm']\n",
    "    x_bin = h5norm['entry1/data/x_bin']\n",
    "\n",
    "    # find out what pixels to use\n",
    "    x_low = np.searchsorted(x_bin, x_min, sorter=np.argsort(x_bin))\n",
    "    x_low = np.argsort(x_bin)[x_low]\n",
    "    x_high = np.searchsorted(x_bin, x_max, sorter=np.argsort(x_bin))\n",
    "    x_high = np.argsort(x_bin)[x_high]\n",
    "\n",
    "    if(x_low > x_high):\n",
    "        x_low, x_high = x_high, x_low\n",
    "\n",
    "    norm = np.sum(detector, axis=(0, 1),\n",
    "                  dtype='float64')\n",
    "\n",
    "    # By this point you have norm[y][x]\n",
    "    norm = norm[:, x_low: x_high]\n",
    "    print(x_low, x_high, norm.shape)\n",
    "    norm = np.sum(norm, axis=1)\n",
    "    print(norm.shape)\n",
    "    mean = np.mean(norm)\n",
    "\n",
    "    return norm / mean, np.sqrt(norm) / mean"
   ]
  },
  {
   "cell_type": "code",
   "execution_count": 293,
   "metadata": {},
   "outputs": [
    {
     "name": "stdout",
     "output_type": "stream",
     "text": [
      "2 9 (5, 7)\n",
      "(5,)\n",
      "(array([ 1.12290503,  1.23743017,  0.8603352 ,  0.70111732,  1.07821229]), array([ 0.05600541,  0.05879208,  0.04902215,  0.04425413,  0.05487956]))\n"
     ]
    }
   ],
   "source": [
    "h5norm = h5py.File('flood.h5', 'r')\n",
    "print(create_detector_norm(h5norm, 3.5, -3.5))\n",
    "h5norm.close()"
   ]
  },
  {
   "cell_type": "code",
   "execution_count": 286,
   "metadata": {},
   "outputs": [
    {
     "data": {
      "text/plain": [
       "array([[[[31, 46, 19, 89, 87, 33, 21, 81, 72, 90, 20],\n",
       "         [72, 58,  6, 67, 82, 26, 99, 86, 77, 14, 28],\n",
       "         [16, 12, 40, 81, 97, 22,  8,  8, 52, 23, 11],\n",
       "         [63, 48, 68, 66, 38,  3, 11, 34, 31, 98, 34],\n",
       "         [98, 19, 74,  0, 73, 32, 88, 99, 20, 70, 64]]]])"
      ]
     },
     "execution_count": 286,
     "metadata": {},
     "output_type": "execute_result"
    }
   ],
   "source": [
    "d"
   ]
  },
  {
   "cell_type": "code",
   "execution_count": 294,
   "metadata": {},
   "outputs": [
    {
     "data": {
      "text/plain": [
       "array([ 1.12290503,  1.23743017,  0.8603352 ,  0.70111732,  1.07821229])"
      ]
     },
     "execution_count": 294,
     "metadata": {},
     "output_type": "execute_result"
    }
   ],
   "source": [
    "np.sum(np.squeeze(d[..., 2:-2]), axis=1) / np.mean(np.sum(np.squeeze(d[..., 2:-2]), axis=1))"
   ]
  },
  {
   "cell_type": "code",
   "execution_count": 295,
   "metadata": {},
   "outputs": [
    {
     "data": {
      "text/plain": [
       "'/Users/anz/Documents/Andy/programming/refnx'"
      ]
     },
     "execution_count": 295,
     "metadata": {},
     "output_type": "execute_result"
    }
   ],
   "source": [
    "pwd"
   ]
  },
  {
   "cell_type": "code",
   "execution_count": null,
   "metadata": {
    "collapsed": true
   },
   "outputs": [],
   "source": []
  }
 ],
 "metadata": {
  "kernelspec": {
   "display_name": "Python 3",
   "language": "python",
   "name": "python3"
  },
  "language_info": {
   "codemirror_mode": {
    "name": "ipython",
    "version": 3
   },
   "file_extension": ".py",
   "mimetype": "text/x-python",
   "name": "python",
   "nbconvert_exporter": "python",
   "pygments_lexer": "ipython3",
   "version": "3.8.2"
  }
 },
 "nbformat": 4,
 "nbformat_minor": 2
}
