{
 "cells": [
  {
   "cell_type": "code",
   "execution_count": 44,
   "metadata": {},
   "outputs": [],
   "source": [
    "import sys\n",
    "import os.path\n",
    "sys.path.insert(1, r'H:\\DAV_Desktop\\Users\\Prescott\\code')\n",
    "\n",
    "from fizzy import checktime"
   ]
  },
  {
   "cell_type": "code",
   "execution_count": 45,
   "metadata": {},
   "outputs": [
    {
     "name": "stdout",
     "output_type": "stream",
     "text": [
      "H:DAV_Desktop\\Users\\andrew\\140\\batchbuffer\n"
     ]
    }
   ],
   "source": [
    "pth = os.path.join('H:', 'DAV_Desktop', 'Users', 'andrew', '140', 'batchbuffer')\n",
    "print(pth)"
   ]
  },
  {
   "cell_type": "code",
   "execution_count": 46,
   "metadata": {
    "scrolled": false
   },
   "outputs": [
    {
     "name": "stdout",
     "output_type": "stream",
     "text": [
      "Starting 2020-01-14 15:00\n",
      "\n",
      "acquire(1800)                                      Ends: 2020-01-14 15:33\n",
      "acquire(11800)                                     Ends: 2020-01-14 18:53\n",
      "acquire(1800)                                      Ends: 2020-01-14 19:27\n",
      "acquire(11800)                                     Ends: 2020-01-14 22:47\n",
      "acquire(3600)                                      Ends: 2020-01-14 23:50\n",
      "acquire(11800)                                     Ends: 2020-01-15 03:11\n",
      "acquire(3600)                                      Ends: 2020-01-15 04:14\n",
      "acquire(11800)                                     Ends: 2020-01-15 07:34\n",
      "\n",
      "Total time 59800 s 16.6 h\n",
      "Finishes 2020-01-15 07:36\n"
     ]
    },
    {
     "data": {
      "text/plain": [
       "59800"
      ]
     },
     "execution_count": 46,
     "metadata": {},
     "output_type": "execute_result"
    }
   ],
   "source": [
    "checktime(pth, start='2020-01-14 15:00')"
   ]
  }
 ],
 "metadata": {
  "anaconda-cloud": {},
  "kernelspec": {
   "display_name": "Python 3",
   "language": "python",
   "name": "python3"
  },
  "language_info": {
   "codemirror_mode": {
    "name": "ipython",
    "version": 3
   },
   "file_extension": ".py",
   "mimetype": "text/x-python",
   "name": "python",
   "nbconvert_exporter": "python",
   "pygments_lexer": "ipython3",
   "version": "3.7.4"
  }
 },
 "nbformat": 4,
 "nbformat_minor": 1
}
